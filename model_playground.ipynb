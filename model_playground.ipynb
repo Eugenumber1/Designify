{
 "cells": [
  {
   "cell_type": "markdown",
   "source": [
    "##Start\n"
   ],
   "metadata": {
    "collapsed": false
   }
  },
  {
   "cell_type": "code",
   "execution_count": 19,
   "outputs": [
    {
     "name": "stdout",
     "output_type": "stream",
     "text": [
      "Requirement already satisfied: tensorflow in ./venv/lib/python3.8/site-packages (2.11.0)\r\n",
      "Requirement already satisfied: protobuf<3.20,>=3.9.2 in ./venv/lib/python3.8/site-packages (from tensorflow) (3.19.6)\r\n",
      "Requirement already satisfied: six>=1.12.0 in ./venv/lib/python3.8/site-packages (from tensorflow) (1.16.0)\r\n",
      "Requirement already satisfied: grpcio<2.0,>=1.24.3 in ./venv/lib/python3.8/site-packages (from tensorflow) (1.51.1)\r\n",
      "Requirement already satisfied: libclang>=13.0.0 in ./venv/lib/python3.8/site-packages (from tensorflow) (15.0.6.1)\r\n",
      "Requirement already satisfied: wrapt>=1.11.0 in ./venv/lib/python3.8/site-packages (from tensorflow) (1.14.1)\r\n",
      "Requirement already satisfied: numpy>=1.20 in ./venv/lib/python3.8/site-packages (from tensorflow) (1.24.0)\r\n",
      "Requirement already satisfied: packaging in ./venv/lib/python3.8/site-packages (from tensorflow) (22.0)\r\n",
      "Requirement already satisfied: termcolor>=1.1.0 in ./venv/lib/python3.8/site-packages (from tensorflow) (2.2.0)\r\n",
      "Requirement already satisfied: opt-einsum>=2.3.2 in ./venv/lib/python3.8/site-packages (from tensorflow) (3.3.0)\r\n",
      "Requirement already satisfied: astunparse>=1.6.0 in ./venv/lib/python3.8/site-packages (from tensorflow) (1.6.3)\r\n",
      "Requirement already satisfied: tensorboard<2.12,>=2.11 in ./venv/lib/python3.8/site-packages (from tensorflow) (2.11.2)\r\n",
      "Requirement already satisfied: setuptools in ./venv/lib/python3.8/site-packages (from tensorflow) (60.2.0)\r\n",
      "Requirement already satisfied: h5py>=2.9.0 in ./venv/lib/python3.8/site-packages (from tensorflow) (3.8.0)\r\n",
      "Requirement already satisfied: tensorflow-estimator<2.12,>=2.11.0 in ./venv/lib/python3.8/site-packages (from tensorflow) (2.11.0)\r\n",
      "Requirement already satisfied: google-pasta>=0.1.1 in ./venv/lib/python3.8/site-packages (from tensorflow) (0.2.0)\r\n",
      "Requirement already satisfied: gast<=0.4.0,>=0.2.1 in ./venv/lib/python3.8/site-packages (from tensorflow) (0.4.0)\r\n",
      "Requirement already satisfied: typing-extensions>=3.6.6 in ./venv/lib/python3.8/site-packages (from tensorflow) (4.4.0)\r\n",
      "Requirement already satisfied: tensorflow-io-gcs-filesystem>=0.23.1 in ./venv/lib/python3.8/site-packages (from tensorflow) (0.30.0)\r\n",
      "Requirement already satisfied: flatbuffers>=2.0 in ./venv/lib/python3.8/site-packages (from tensorflow) (23.1.21)\r\n",
      "Requirement already satisfied: keras<2.12,>=2.11.0 in ./venv/lib/python3.8/site-packages (from tensorflow) (2.11.0)\r\n",
      "Requirement already satisfied: absl-py>=1.0.0 in ./venv/lib/python3.8/site-packages (from tensorflow) (1.4.0)\r\n",
      "Requirement already satisfied: wheel<1.0,>=0.23.0 in ./venv/lib/python3.8/site-packages (from astunparse>=1.6.0->tensorflow) (0.37.1)\r\n",
      "Requirement already satisfied: tensorboard-plugin-wit>=1.6.0 in ./venv/lib/python3.8/site-packages (from tensorboard<2.12,>=2.11->tensorflow) (1.8.1)\r\n",
      "Requirement already satisfied: werkzeug>=1.0.1 in ./venv/lib/python3.8/site-packages (from tensorboard<2.12,>=2.11->tensorflow) (2.2.2)\r\n",
      "Requirement already satisfied: google-auth-oauthlib<0.5,>=0.4.1 in ./venv/lib/python3.8/site-packages (from tensorboard<2.12,>=2.11->tensorflow) (0.4.6)\r\n",
      "Requirement already satisfied: requests<3,>=2.21.0 in ./venv/lib/python3.8/site-packages (from tensorboard<2.12,>=2.11->tensorflow) (2.28.2)\r\n",
      "Requirement already satisfied: tensorboard-data-server<0.7.0,>=0.6.0 in ./venv/lib/python3.8/site-packages (from tensorboard<2.12,>=2.11->tensorflow) (0.6.1)\r\n",
      "Requirement already satisfied: markdown>=2.6.8 in ./venv/lib/python3.8/site-packages (from tensorboard<2.12,>=2.11->tensorflow) (3.4.1)\r\n",
      "Requirement already satisfied: google-auth<3,>=1.6.3 in ./venv/lib/python3.8/site-packages (from tensorboard<2.12,>=2.11->tensorflow) (2.16.0)\r\n",
      "Requirement already satisfied: rsa<5,>=3.1.4 in ./venv/lib/python3.8/site-packages (from google-auth<3,>=1.6.3->tensorboard<2.12,>=2.11->tensorflow) (4.9)\r\n",
      "Requirement already satisfied: cachetools<6.0,>=2.0.0 in ./venv/lib/python3.8/site-packages (from google-auth<3,>=1.6.3->tensorboard<2.12,>=2.11->tensorflow) (5.3.0)\r\n",
      "Requirement already satisfied: pyasn1-modules>=0.2.1 in ./venv/lib/python3.8/site-packages (from google-auth<3,>=1.6.3->tensorboard<2.12,>=2.11->tensorflow) (0.2.8)\r\n",
      "Requirement already satisfied: requests-oauthlib>=0.7.0 in ./venv/lib/python3.8/site-packages (from google-auth-oauthlib<0.5,>=0.4.1->tensorboard<2.12,>=2.11->tensorflow) (0.7.0)\r\n",
      "Requirement already satisfied: importlib-metadata>=4.4 in ./venv/lib/python3.8/site-packages (from markdown>=2.6.8->tensorboard<2.12,>=2.11->tensorflow) (5.2.0)\r\n",
      "Requirement already satisfied: idna<4,>=2.5 in ./venv/lib/python3.8/site-packages (from requests<3,>=2.21.0->tensorboard<2.12,>=2.11->tensorflow) (3.4)\r\n",
      "Requirement already satisfied: certifi>=2017.4.17 in ./venv/lib/python3.8/site-packages (from requests<3,>=2.21.0->tensorboard<2.12,>=2.11->tensorflow) (2022.12.7)\r\n",
      "Requirement already satisfied: charset-normalizer<4,>=2 in ./venv/lib/python3.8/site-packages (from requests<3,>=2.21.0->tensorboard<2.12,>=2.11->tensorflow) (2.1.1)\r\n",
      "Requirement already satisfied: urllib3<1.27,>=1.21.1 in ./venv/lib/python3.8/site-packages (from requests<3,>=2.21.0->tensorboard<2.12,>=2.11->tensorflow) (1.26.14)\r\n",
      "Requirement already satisfied: MarkupSafe>=2.1.1 in ./venv/lib/python3.8/site-packages (from werkzeug>=1.0.1->tensorboard<2.12,>=2.11->tensorflow) (2.1.1)\r\n",
      "Requirement already satisfied: zipp>=0.5 in ./venv/lib/python3.8/site-packages (from importlib-metadata>=4.4->markdown>=2.6.8->tensorboard<2.12,>=2.11->tensorflow) (3.11.0)\r\n",
      "Requirement already satisfied: pyasn1<0.5.0,>=0.4.6 in ./venv/lib/python3.8/site-packages (from pyasn1-modules>=0.2.1->google-auth<3,>=1.6.3->tensorboard<2.12,>=2.11->tensorflow) (0.4.8)\r\n",
      "Requirement already satisfied: oauthlib>=0.6.2 in ./venv/lib/python3.8/site-packages (from requests-oauthlib>=0.7.0->google-auth-oauthlib<0.5,>=0.4.1->tensorboard<2.12,>=2.11->tensorflow) (2.0.1)\r\n",
      "\u001B[33mWARNING: You are using pip version 21.3.1; however, version 23.0 is available.\r\n",
      "You should consider upgrading via the '/Users/zhenyabudnyk/PycharmProjects/Designify/venv/bin/python -m pip install --upgrade pip' command.\u001B[0m\r\n",
      "Requirement already satisfied: ipython in ./venv/lib/python3.8/site-packages (8.10.0)\r\n",
      "Requirement already satisfied: prompt-toolkit<3.1.0,>=3.0.30 in ./venv/lib/python3.8/site-packages (from ipython) (3.0.36)\r\n",
      "Requirement already satisfied: matplotlib-inline in ./venv/lib/python3.8/site-packages (from ipython) (0.1.6)\r\n",
      "Requirement already satisfied: backcall in ./venv/lib/python3.8/site-packages (from ipython) (0.2.0)\r\n",
      "Requirement already satisfied: traitlets>=5 in ./venv/lib/python3.8/site-packages (from ipython) (5.9.0)\r\n",
      "Requirement already satisfied: pickleshare in ./venv/lib/python3.8/site-packages (from ipython) (0.7.5)\r\n",
      "Requirement already satisfied: decorator in ./venv/lib/python3.8/site-packages (from ipython) (5.1.1)\r\n",
      "Requirement already satisfied: pexpect>4.3 in ./venv/lib/python3.8/site-packages (from ipython) (4.8.0)\r\n",
      "Requirement already satisfied: appnope in ./venv/lib/python3.8/site-packages (from ipython) (0.1.3)\r\n",
      "Requirement already satisfied: stack-data in ./venv/lib/python3.8/site-packages (from ipython) (0.6.2)\r\n",
      "Requirement already satisfied: jedi>=0.16 in ./venv/lib/python3.8/site-packages (from ipython) (0.18.2)\r\n",
      "Requirement already satisfied: pygments>=2.4.0 in ./venv/lib/python3.8/site-packages (from ipython) (2.14.0)\r\n",
      "Requirement already satisfied: parso<0.9.0,>=0.8.0 in ./venv/lib/python3.8/site-packages (from jedi>=0.16->ipython) (0.8.3)\r\n",
      "Requirement already satisfied: ptyprocess>=0.5 in ./venv/lib/python3.8/site-packages (from pexpect>4.3->ipython) (0.7.0)\r\n",
      "Requirement already satisfied: wcwidth in ./venv/lib/python3.8/site-packages (from prompt-toolkit<3.1.0,>=3.0.30->ipython) (0.2.6)\r\n",
      "Requirement already satisfied: asttokens>=2.1.0 in ./venv/lib/python3.8/site-packages (from stack-data->ipython) (2.2.1)\r\n",
      "Requirement already satisfied: executing>=1.2.0 in ./venv/lib/python3.8/site-packages (from stack-data->ipython) (1.2.0)\r\n",
      "Requirement already satisfied: pure-eval in ./venv/lib/python3.8/site-packages (from stack-data->ipython) (0.2.2)\r\n",
      "Requirement already satisfied: six in ./venv/lib/python3.8/site-packages (from asttokens>=2.1.0->stack-data->ipython) (1.16.0)\r\n",
      "\u001B[33mWARNING: You are using pip version 21.3.1; however, version 23.0 is available.\r\n",
      "You should consider upgrading via the '/Users/zhenyabudnyk/PycharmProjects/Designify/venv/bin/python -m pip install --upgrade pip' command.\u001B[0m\r\n",
      "Requirement already satisfied: six==1.16.0 in ./venv/lib/python3.8/site-packages (1.16.0)\r\n",
      "\u001B[33mWARNING: You are using pip version 21.3.1; however, version 23.0 is available.\r\n",
      "You should consider upgrading via the '/Users/zhenyabudnyk/PycharmProjects/Designify/venv/bin/python -m pip install --upgrade pip' command.\u001B[0m\r\n",
      "\u001B[31mERROR: Could not find a version that satisfies the requirement dnnlib (from versions: none)\u001B[0m\r\n",
      "\u001B[31mERROR: No matching distribution found for dnnlib\u001B[0m\r\n",
      "\u001B[33mWARNING: You are using pip version 21.3.1; however, version 23.0 is available.\r\n",
      "You should consider upgrading via the '/Users/zhenyabudnyk/PycharmProjects/Designify/venv/bin/python -m pip install --upgrade pip' command.\u001B[0m\r\n"
     ]
    }
   ],
   "source": [
    "!pip install tensorflow\n",
    "!pip install ipython\n",
    "!pip install six==1.16.0\n",
    "!pip install dnnlib\n"
   ],
   "metadata": {
    "collapsed": false
   }
  },
  {
   "cell_type": "code",
   "execution_count": 20,
   "outputs": [
    {
     "name": "stdout",
     "output_type": "stream",
     "text": [
      "Unexpected exception formatting exception. Falling back to standard exception\n"
     ]
    },
    {
     "name": "stderr",
     "output_type": "stream",
     "text": [
      "Traceback (most recent call last):\n",
      "  File \"/Users/zhenyabudnyk/PycharmProjects/Designify/venv/lib/python3.8/site-packages/IPython/core/interactiveshell.py\", line 3460, in run_code\n",
      "    exec(code_obj, self.user_global_ns, self.user_ns)\n",
      "  File \"/var/folders/x9/n8g0lhd50nj2rctpqv0wnvm00000gn/T/ipykernel_37430/33337200.py\", line 5, in <module>\n",
      "    model = pickle.load(file)\n",
      "ModuleNotFoundError: No module named 'dnnlib'\n",
      "\n",
      "During handling of the above exception, another exception occurred:\n",
      "\n",
      "Traceback (most recent call last):\n",
      "  File \"/Users/zhenyabudnyk/PycharmProjects/Designify/venv/lib/python3.8/site-packages/IPython/core/interactiveshell.py\", line 2057, in showtraceback\n",
      "    stb = self.InteractiveTB.structured_traceback(\n",
      "  File \"/Users/zhenyabudnyk/PycharmProjects/Designify/venv/lib/python3.8/site-packages/IPython/core/ultratb.py\", line 1118, in structured_traceback\n",
      "    return FormattedTB.structured_traceback(\n",
      "  File \"/Users/zhenyabudnyk/PycharmProjects/Designify/venv/lib/python3.8/site-packages/IPython/core/ultratb.py\", line 1012, in structured_traceback\n",
      "    return VerboseTB.structured_traceback(\n",
      "  File \"/Users/zhenyabudnyk/PycharmProjects/Designify/venv/lib/python3.8/site-packages/IPython/core/ultratb.py\", line 865, in structured_traceback\n",
      "    formatted_exception = self.format_exception_as_a_whole(etype, evalue, etb, number_of_lines_of_context,\n",
      "  File \"/Users/zhenyabudnyk/PycharmProjects/Designify/venv/lib/python3.8/site-packages/IPython/core/ultratb.py\", line 818, in format_exception_as_a_whole\n",
      "    frames.append(self.format_record(r))\n",
      "  File \"/Users/zhenyabudnyk/PycharmProjects/Designify/venv/lib/python3.8/site-packages/IPython/core/ultratb.py\", line 736, in format_record\n",
      "    result += ''.join(_format_traceback_lines(frame_info.lines, Colors, self.has_colors, lvals))\n",
      "  File \"/Users/zhenyabudnyk/PycharmProjects/Designify/venv/lib/python3.8/site-packages/stack_data/utils.py\", line 144, in cached_property_wrapper\n",
      "    value = obj.__dict__[self.func.__name__] = self.func(obj)\n",
      "  File \"/Users/zhenyabudnyk/PycharmProjects/Designify/venv/lib/python3.8/site-packages/stack_data/core.py\", line 734, in lines\n",
      "    pieces = self.included_pieces\n",
      "  File \"/Users/zhenyabudnyk/PycharmProjects/Designify/venv/lib/python3.8/site-packages/stack_data/utils.py\", line 144, in cached_property_wrapper\n",
      "    value = obj.__dict__[self.func.__name__] = self.func(obj)\n",
      "  File \"/Users/zhenyabudnyk/PycharmProjects/Designify/venv/lib/python3.8/site-packages/stack_data/core.py\", line 677, in included_pieces\n",
      "    scope_pieces = self.scope_pieces\n",
      "  File \"/Users/zhenyabudnyk/PycharmProjects/Designify/venv/lib/python3.8/site-packages/stack_data/utils.py\", line 144, in cached_property_wrapper\n",
      "    value = obj.__dict__[self.func.__name__] = self.func(obj)\n",
      "  File \"/Users/zhenyabudnyk/PycharmProjects/Designify/venv/lib/python3.8/site-packages/stack_data/core.py\", line 614, in scope_pieces\n",
      "    scope_start, scope_end = self.source.line_range(self.scope)\n",
      "  File \"/Users/zhenyabudnyk/PycharmProjects/Designify/venv/lib/python3.8/site-packages/stack_data/core.py\", line 178, in line_range\n",
      "    return line_range(self.asttext(), node)\n",
      "  File \"/Users/zhenyabudnyk/PycharmProjects/Designify/venv/lib/python3.8/site-packages/executing/executing.py\", line 428, in asttext\n",
      "    self._asttext = ASTText(self.text, tree=self.tree, filename=self.filename)\n",
      "  File \"/Users/zhenyabudnyk/PycharmProjects/Designify/venv/lib/python3.8/site-packages/asttokens/asttokens.py\", line 307, in __init__\n",
      "    super(ASTText, self).__init__(source_text, filename)\n",
      "  File \"/Users/zhenyabudnyk/PycharmProjects/Designify/venv/lib/python3.8/site-packages/asttokens/asttokens.py\", line 44, in __init__\n",
      "    source_text = six.ensure_text(source_text)\n",
      "AttributeError: module 'six' has no attribute 'ensure_text'\n"
     ]
    }
   ],
   "source": [
    "import tensorflow as tf\n",
    "import pickle\n",
    "import tqdm\n",
    "with open('/Users/zhenyabudnyk/PycharmProjects/Designify/server/abstract_photo.pkl', 'rb') as file:\n",
    "    model = pickle.load(file)\n",
    "\n",
    "model = tf.keras.Model(inputs=model.input, outputs=model.output)\n",
    "\n",
    "tqdm.tqdm(model.compile(optimizer='adam', loss='binary_crossentropy', metrics=['accuracy']))"
   ],
   "metadata": {
    "collapsed": false
   }
  },
  {
   "cell_type": "code",
   "execution_count": null,
   "outputs": [],
   "source": [
    "import IPython.display as display\n",
    "\n",
    "latent_vector = tf.random.normal(shape=(1, 512))\n",
    "image = model.decode(latent_vector)\n",
    "\n",
    "display.display(display.Image(data=tf.keras.preprocessing.image.array_to_img(image[0])))"
   ],
   "metadata": {
    "collapsed": false
   }
  },
  {
   "cell_type": "code",
   "execution_count": null,
   "outputs": [],
   "source": [],
   "metadata": {
    "collapsed": false
   }
  }
 ],
 "metadata": {
  "kernelspec": {
   "display_name": "Python 3",
   "language": "python",
   "name": "python3"
  },
  "language_info": {
   "codemirror_mode": {
    "name": "ipython",
    "version": 2
   },
   "file_extension": ".py",
   "mimetype": "text/x-python",
   "name": "python",
   "nbconvert_exporter": "python",
   "pygments_lexer": "ipython2",
   "version": "2.7.6"
  }
 },
 "nbformat": 4,
 "nbformat_minor": 0
}
